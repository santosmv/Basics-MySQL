{
 "cells": [
  {
   "cell_type": "code",
   "execution_count": 1,
   "metadata": {},
   "outputs": [],
   "source": [
    "import os\n",
    "os.environ['SPARK_HOME'] = r'C:\\Users\\Marcos\\Documents\\Spark'\n",
    "os.environ['PYSPARK_DRIVER_PYTHON'] = 'jupyter'\n",
    "os.environ['PYSPARK_DRIVER_PYTHON_OPTS'] = 'lab'\n",
    "os.environ['PYSPARK_PYTHON'] = 'python'"
   ]
  },
  {
   "cell_type": "code",
   "execution_count": 2,
   "metadata": {},
   "outputs": [],
   "source": [
    "from pyspark.sql import SparkSession"
   ]
  },
  {
   "cell_type": "markdown",
   "metadata": {},
   "source": [
    "Q1: Read data with ~| delimiter"
   ]
  },
  {
   "cell_type": "code",
   "execution_count": 3,
   "metadata": {},
   "outputs": [],
   "source": [
    "spark = SparkSession.builder.appName('DataLost').getOrCreate()"
   ]
  },
  {
   "cell_type": "code",
   "execution_count": 11,
   "metadata": {},
   "outputs": [],
   "source": [
    "df = spark.read.option('delimiter','~|').csv('data/lost.csv', header=True, inferSchema=True, )"
   ]
  },
  {
   "cell_type": "code",
   "execution_count": 18,
   "metadata": {},
   "outputs": [
    {
     "name": "stdout",
     "output_type": "stream",
     "text": [
      "+------+---+\n",
      "|  Name|Age|\n",
      "+------+---+\n",
      "|  Jack| 42|\n",
      "|  Kate| 35|\n",
      "|Sawyer| 40|\n",
      "|Hurley| 30|\n",
      "|  John| 60|\n",
      "+------+---+\n",
      "\n"
     ]
    }
   ],
   "source": [
    "df.show()"
   ]
  },
  {
   "cell_type": "code",
   "execution_count": 38,
   "metadata": {},
   "outputs": [],
   "source": [
    "spark.stop()"
   ]
  },
  {
   "cell_type": "markdown",
   "metadata": {},
   "source": [
    "Q2: Merge 2 datasets"
   ]
  },
  {
   "cell_type": "code",
   "execution_count": 39,
   "metadata": {},
   "outputs": [],
   "source": [
    "spark = SparkSession.builder.appName('MergeData').getOrCreate()"
   ]
  },
  {
   "cell_type": "code",
   "execution_count": 41,
   "metadata": {},
   "outputs": [],
   "source": [
    "path_lost = 'data/lost.csv'\n",
    "path_house = 'data/house.csv'\n",
    "df_lost = spark.read.option('delimiter','~|').csv(path_lost, header=True, inferSchema=True)\n",
    "df_house = spark.read.option('delimiter',',,').csv(path_house, header=True, inferSchema=True)"
   ]
  },
  {
   "cell_type": "code",
   "execution_count": 42,
   "metadata": {},
   "outputs": [],
   "source": [
    "df_lost.createOrReplaceTempView('TableLost')\n",
    "df_house.createOrReplaceTempView('TableHouse')"
   ]
  },
  {
   "cell_type": "code",
   "execution_count": 44,
   "metadata": {},
   "outputs": [
    {
     "name": "stdout",
     "output_type": "stream",
     "text": [
      "+------+---+\n",
      "|  Name|Age|\n",
      "+------+---+\n",
      "|  John| 60|\n",
      "|Sawyer| 40|\n",
      "|  Jack| 42|\n",
      "|  Kate| 35|\n",
      "|Hurley| 30|\n",
      "| Cuddy| 45|\n",
      "| House| 55|\n",
      "|    13| 27|\n",
      "| Chase| 33|\n",
      "|Wilson| 48|\n",
      "+------+---+\n",
      "\n"
     ]
    }
   ],
   "source": [
    "df = spark.sql(\"\"\"\n",
    "               SELECT * FROM TableLost \n",
    "               UNION\n",
    "               SELECT * FROM TableHouse\n",
    "               \"\"\")\n",
    "df.show()"
   ]
  },
  {
   "cell_type": "code",
   "execution_count": 43,
   "metadata": {},
   "outputs": [
    {
     "name": "stdout",
     "output_type": "stream",
     "text": [
      "+------+---+\n",
      "|  Name|Age|\n",
      "+------+---+\n",
      "|  Jack| 42|\n",
      "|  Kate| 35|\n",
      "|Sawyer| 40|\n",
      "|Hurley| 30|\n",
      "|  John| 60|\n",
      "| House| 55|\n",
      "|Wilson| 48|\n",
      "| Cuddy| 45|\n",
      "|    13| 27|\n",
      "| Chase| 33|\n",
      "+------+---+\n",
      "\n"
     ]
    }
   ],
   "source": [
    "df = df_lost.union(df_house)\n",
    "df.show()"
   ]
  },
  {
   "cell_type": "code",
   "execution_count": 49,
   "metadata": {},
   "outputs": [
    {
     "name": "stdout",
     "output_type": "stream",
     "text": [
      "+------+---+\n",
      "|  Name|Age|\n",
      "+------+---+\n",
      "|    13| 27|\n",
      "| Chase| 33|\n",
      "| Cuddy| 45|\n",
      "| House| 55|\n",
      "|Hurley| 30|\n",
      "|  Jack| 42|\n",
      "|  John| 60|\n",
      "|  Kate| 35|\n",
      "|Sawyer| 40|\n",
      "|Wilson| 48|\n",
      "+------+---+\n",
      "\n"
     ]
    }
   ],
   "source": [
    "df = df_lost.join(df_house, on=['Name','Age'], how='outer')\n",
    "df.show()"
   ]
  }
 ],
 "metadata": {
  "kernelspec": {
   "display_name": "Python 3",
   "language": "python",
   "name": "python3"
  },
  "language_info": {
   "codemirror_mode": {
    "name": "ipython",
    "version": 3
   },
   "file_extension": ".py",
   "mimetype": "text/x-python",
   "name": "python",
   "nbconvert_exporter": "python",
   "pygments_lexer": "ipython3",
   "version": "3.8.5"
  }
 },
 "nbformat": 4,
 "nbformat_minor": 2
}
