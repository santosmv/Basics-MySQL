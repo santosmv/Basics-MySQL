{
 "cells": [
  {
   "cell_type": "code",
   "execution_count": 1,
   "metadata": {},
   "outputs": [],
   "source": [
    "import os\n",
    "os.environ['SPARK_HOME'] = r'C:\\Users\\Marcos\\Documents\\Spark'\n",
    "os.environ['PYSPARK_DRIVER_PYTHON'] = 'jupyter'\n",
    "os.environ['PYSPARK_DRIVER_PYTHON_OPTS'] = 'lab'\n",
    "os.environ['PYSPARK_PYTHON'] = 'python'"
   ]
  },
  {
   "cell_type": "code",
   "execution_count": 51,
   "metadata": {},
   "outputs": [],
   "source": [
    "import numpy as np\n",
    "from pyspark.sql import SparkSession\n",
    "from pyspark.sql.functions import col, desc"
   ]
  },
  {
   "cell_type": "code",
   "execution_count": 3,
   "metadata": {},
   "outputs": [],
   "source": [
    "spark = SparkSession.builder.appName('DataFrame-Operations').getOrCreate()"
   ]
  },
  {
   "cell_type": "code",
   "execution_count": 4,
   "metadata": {},
   "outputs": [],
   "source": [
    "file_path = 'data/walmart-sales-dataset-of-45stores.csv'\n",
    "df = spark.read.csv(file_path, header=True, inferSchema=True)"
   ]
  },
  {
   "cell_type": "code",
   "execution_count": 5,
   "metadata": {},
   "outputs": [
    {
     "name": "stdout",
     "output_type": "stream",
     "text": [
      "root\n",
      " |-- Store: integer (nullable = true)\n",
      " |-- Date: string (nullable = true)\n",
      " |-- Weekly_Sales: double (nullable = true)\n",
      " |-- Holiday_Flag: integer (nullable = true)\n",
      " |-- Temperature: double (nullable = true)\n",
      " |-- Fuel_Price: double (nullable = true)\n",
      " |-- CPI: double (nullable = true)\n",
      " |-- Unemployment: double (nullable = true)\n",
      "\n",
      "+-----+----------+------------+------------+-----------+----------+-----------+------------+\n",
      "|Store|      Date|Weekly_Sales|Holiday_Flag|Temperature|Fuel_Price|        CPI|Unemployment|\n",
      "+-----+----------+------------+------------+-----------+----------+-----------+------------+\n",
      "|    1|05-02-2010|   1643690.9|           0|      42.31|     2.572|211.0963582|       8.106|\n",
      "|    1|12-02-2010|  1641957.44|           1|      38.51|     2.548|211.2421698|       8.106|\n",
      "|    1|19-02-2010|  1611968.17|           0|      39.93|     2.514|211.2891429|       8.106|\n",
      "|    1|26-02-2010|  1409727.59|           0|      46.63|     2.561|211.3196429|       8.106|\n",
      "|    1|05-03-2010|  1554806.68|           0|       46.5|     2.625|211.3501429|       8.106|\n",
      "+-----+----------+------------+------------+-----------+----------+-----------+------------+\n",
      "only showing top 5 rows\n",
      "\n"
     ]
    }
   ],
   "source": [
    "df.printSchema()\n",
    "df.show(5)"
   ]
  },
  {
   "cell_type": "code",
   "execution_count": 10,
   "metadata": {},
   "outputs": [
    {
     "name": "stdout",
     "output_type": "stream",
     "text": [
      "+-----+------------+----------+\n",
      "|store|Weekly_Sales|Fuel_Price|\n",
      "+-----+------------+----------+\n",
      "|    1|   1643690.9|     2.572|\n",
      "|    1|  1641957.44|     2.548|\n",
      "|    1|  1611968.17|     2.514|\n",
      "|    1|  1409727.59|     2.561|\n",
      "|    1|  1554806.68|     2.625|\n",
      "+-----+------------+----------+\n",
      "only showing top 5 rows\n",
      "\n"
     ]
    }
   ],
   "source": [
    "selected_columns = df.select('store', 'Weekly_Sales', 'Fuel_Price')\n",
    "selected_columns.show(5)"
   ]
  },
  {
   "cell_type": "code",
   "execution_count": 20,
   "metadata": {},
   "outputs": [
    {
     "name": "stdout",
     "output_type": "stream",
     "text": [
      "+-----+----------+------------+------------+-----------+----------+-----------+------------+\n",
      "|Store|      Date|Weekly_Sales|Holiday_Flag|Temperature|Fuel_Price|        CPI|Unemployment|\n",
      "+-----+----------+------------+------------+-----------+----------+-----------+------------+\n",
      "|   25|05-02-2010|   677231.63|           0|       21.1|     2.784|204.2471935|       8.187|\n",
      "|   25|12-02-2010|   583364.02|           1|      19.64|     2.773|204.3857472|       8.187|\n",
      "|   25|19-02-2010|   676260.67|           0|      24.16|     2.745|204.4321004|       8.187|\n",
      "|   25|26-02-2010|   628516.57|           0|      29.16|     2.754|204.4630869|       8.187|\n",
      "|   25|05-03-2010|   665750.06|           0|      29.45|     2.777|204.4940734|       8.187|\n",
      "+-----+----------+------------+------------+-----------+----------+-----------+------------+\n",
      "only showing top 5 rows\n",
      "\n"
     ]
    },
    {
     "data": {
      "text/plain": [
       "3003"
      ]
     },
     "execution_count": 20,
     "metadata": {},
     "output_type": "execute_result"
    }
   ],
   "source": [
    "filter_data = df.filter(df.Store >= 25)\n",
    "filter_data.show(5)\n",
    "filter_data.count()"
   ]
  },
  {
   "cell_type": "code",
   "execution_count": 21,
   "metadata": {},
   "outputs": [
    {
     "name": "stdout",
     "output_type": "stream",
     "text": [
      "+-----+-----------------+------------------+\n",
      "|Store|sum(Holiday_Flag)|          avg(CPI)|\n",
      "+-----+-----------------+------------------+\n",
      "|   31|               10|215.64631062727264|\n",
      "|   34|               10| 128.6796694608392|\n",
      "|   28|               10| 128.6796694608392|\n",
      "|   26|               10|135.09260732587418|\n",
      "|   27|               10| 139.0112835083916|\n",
      "+-----+-----------------+------------------+\n",
      "only showing top 5 rows\n",
      "\n"
     ]
    }
   ],
   "source": [
    "grouped_data = df.groupBy('Store').agg({'CPI':'mean', 'Holiday_Flag':'sum'})\n",
    "grouped_data.show(5)"
   ]
  },
  {
   "cell_type": "code",
   "execution_count": 28,
   "metadata": {},
   "outputs": [
    {
     "name": "stdout",
     "output_type": "stream",
     "text": [
      "+-----+------------+-----------+\n",
      "|Store|Weekly_Sales|Temperature|\n",
      "+-----+------------+-----------+\n",
      "|    1|   1643690.9|      69.16|\n",
      "|    1|   1643690.9|      67.97|\n",
      "|    1|   1643690.9|      62.99|\n",
      "|    1|   1643690.9|      68.55|\n",
      "|    1|   1643690.9|      76.08|\n",
      "+-----+------------+-----------+\n",
      "only showing top 5 rows\n",
      "\n"
     ]
    }
   ],
   "source": [
    "df1 = df.select('Store', 'Weekly_Sales')\n",
    "df2 = df.select('Store', 'Temperature')\n",
    "\n",
    "joined_data = df1.join(df2, 'Store', 'inner')\n",
    "joined_data.show(5)"
   ]
  },
  {
   "cell_type": "code",
   "execution_count": 30,
   "metadata": {},
   "outputs": [
    {
     "name": "stdout",
     "output_type": "stream",
     "text": [
      "+-----+----------+------------+------------+-----------+----------+-----------+------------+\n",
      "|Store|      Date|Weekly_Sales|Holiday_Flag|Temperature|Fuel_Price|        CPI|Unemployment|\n",
      "+-----+----------+------------+------------+-----------+----------+-----------+------------+\n",
      "|   33|03-12-2010|   209986.25|           0|      52.82|     3.041|126.7313333|       9.265|\n",
      "|   33|29-10-2010|   213538.32|           0|      71.34|      3.13|126.4364194|       9.265|\n",
      "|   33|30-12-2011|   215359.21|           1|       51.6|     3.428|130.0710323|        8.01|\n",
      "|   33|31-12-2010|   219804.85|           1|      52.91|     3.148|127.0876774|       9.265|\n",
      "|   33|02-12-2011|   220060.35|           0|      59.12|     3.701|129.8459667|        8.01|\n",
      "+-----+----------+------------+------------+-----------+----------+-----------+------------+\n",
      "only showing top 5 rows\n",
      "\n"
     ]
    }
   ],
   "source": [
    "sorted_data = df.orderBy('Weekly_Sales')\n",
    "sorted_data.show(5)"
   ]
  },
  {
   "cell_type": "code",
   "execution_count": 35,
   "metadata": {},
   "outputs": [
    {
     "name": "stdout",
     "output_type": "stream",
     "text": [
      "+-----+----------+------------+------------+-----------+----------+-----------+------------+\n",
      "|Store|      Date|Weekly_Sales|Holiday_Flag|Temperature|Fuel_Price|        CPI|Unemployment|\n",
      "+-----+----------+------------+------------+-----------+----------+-----------+------------+\n",
      "|   33|03-12-2010|   209986.25|           0|      52.82|     3.041|126.7313333|       9.265|\n",
      "|   33|29-10-2010|   213538.32|           0|      71.34|      3.13|126.4364194|       9.265|\n",
      "|   33|30-12-2011|   215359.21|           1|       51.6|     3.428|130.0710323|        8.01|\n",
      "|   33|31-12-2010|   219804.85|           1|      52.91|     3.148|127.0876774|       9.265|\n",
      "|   33|02-12-2011|   220060.35|           0|      59.12|     3.701|129.8459667|        8.01|\n",
      "+-----+----------+------------+------------+-----------+----------+-----------+------------+\n",
      "only showing top 5 rows\n",
      "\n"
     ]
    }
   ],
   "source": [
    "sorted_data = df.orderBy(col('Weekly_Sales'), col('Fuel_Price').desc())\n",
    "sorted_data.show(5)"
   ]
  },
  {
   "cell_type": "code",
   "execution_count": 38,
   "metadata": {},
   "outputs": [
    {
     "name": "stdout",
     "output_type": "stream",
     "text": [
      "+-----+\n",
      "|Store|\n",
      "+-----+\n",
      "|   45|\n",
      "|   44|\n",
      "|   43|\n",
      "|   42|\n",
      "|   41|\n",
      "|   40|\n",
      "|   39|\n",
      "|   38|\n",
      "|   37|\n",
      "|   36|\n",
      "|   35|\n",
      "|   34|\n",
      "|   33|\n",
      "|   32|\n",
      "|   31|\n",
      "|   30|\n",
      "|   29|\n",
      "|   28|\n",
      "|   27|\n",
      "|   26|\n",
      "+-----+\n",
      "only showing top 20 rows\n",
      "\n"
     ]
    }
   ],
   "source": [
    "distinc_data = df.select('Store').distinct().orderBy(col('Store').desc())\n",
    "distinc_data.show()"
   ]
  },
  {
   "cell_type": "code",
   "execution_count": 40,
   "metadata": {},
   "outputs": [
    {
     "name": "stdout",
     "output_type": "stream",
     "text": [
      "+-----+------------+------------+-----------+----------+-----------+------------+\n",
      "|Store|Weekly_Sales|Holiday_Flag|Temperature|Fuel_Price|        CPI|Unemployment|\n",
      "+-----+------------+------------+-----------+----------+-----------+------------+\n",
      "|    1|   1643690.9|           0|      42.31|     2.572|211.0963582|       8.106|\n",
      "|    1|  1641957.44|           1|      38.51|     2.548|211.2421698|       8.106|\n",
      "|    1|  1611968.17|           0|      39.93|     2.514|211.2891429|       8.106|\n",
      "|    1|  1409727.59|           0|      46.63|     2.561|211.3196429|       8.106|\n",
      "|    1|  1554806.68|           0|       46.5|     2.625|211.3501429|       8.106|\n",
      "+-----+------------+------------+-----------+----------+-----------+------------+\n",
      "only showing top 5 rows\n",
      "\n"
     ]
    }
   ],
   "source": [
    "df_dropped = df.drop('Date')\n",
    "df_dropped.show(5)"
   ]
  },
  {
   "cell_type": "code",
   "execution_count": 53,
   "metadata": {},
   "outputs": [
    {
     "name": "stdout",
     "output_type": "stream",
     "text": [
      "+-----+----------+------------+------------+-----------+----------+-----------+------------+------------------+\n",
      "|Store|      Date|Weekly_Sales|Holiday_Flag|Temperature|Fuel_Price|        CPI|Unemployment|                WT|\n",
      "+-----+----------+------------+------------+-----------+----------+-----------+------------+------------------+\n",
      "|    1|05-02-2010|   1643690.9|           0|      42.31|     2.572|211.0963582|       8.106|  38848.7567950839|\n",
      "|    1|12-02-2010|  1641957.44|           1|      38.51|     2.548|211.2421698|       8.106| 42637.17060503765|\n",
      "|    1|19-02-2010|  1611968.17|           0|      39.93|     2.514|211.2891429|       8.106|40369.851490107685|\n",
      "|    1|26-02-2010|  1409727.59|           0|      46.63|     2.561|211.3196429|       8.106|30232.202230323826|\n",
      "|    1|05-03-2010|  1554806.68|           0|       46.5|     2.625|211.3501429|       8.106|33436.702795698926|\n",
      "+-----+----------+------------+------------+-----------+----------+-----------+------------+------------------+\n",
      "only showing top 5 rows\n",
      "\n"
     ]
    }
   ],
   "source": [
    "df_new_col = df.withColumn('WT', df.Weekly_Sales / df.Temperature)\n",
    "df_new_col.show(5)"
   ]
  },
  {
   "cell_type": "code",
   "execution_count": 54,
   "metadata": {},
   "outputs": [
    {
     "name": "stdout",
     "output_type": "stream",
     "text": [
      "+-----+----------+----------+------------+-----------+----------+-----------+------------+\n",
      "|Store|      Date|     Sales|Holiday_Flag|Temperature|Fuel_Price|        CPI|Unemployment|\n",
      "+-----+----------+----------+------------+-----------+----------+-----------+------------+\n",
      "|    1|05-02-2010| 1643690.9|           0|      42.31|     2.572|211.0963582|       8.106|\n",
      "|    1|12-02-2010|1641957.44|           1|      38.51|     2.548|211.2421698|       8.106|\n",
      "|    1|19-02-2010|1611968.17|           0|      39.93|     2.514|211.2891429|       8.106|\n",
      "|    1|26-02-2010|1409727.59|           0|      46.63|     2.561|211.3196429|       8.106|\n",
      "|    1|05-03-2010|1554806.68|           0|       46.5|     2.625|211.3501429|       8.106|\n",
      "+-----+----------+----------+------------+-----------+----------+-----------+------------+\n",
      "only showing top 5 rows\n",
      "\n"
     ]
    }
   ],
   "source": [
    "df_alias = df.withColumnRenamed('Weekly_Sales', 'Sales')\n",
    "df_alias.show(5)"
   ]
  },
  {
   "cell_type": "code",
   "execution_count": 55,
   "metadata": {},
   "outputs": [],
   "source": [
    "spark.stop()"
   ]
  }
 ],
 "metadata": {
  "kernelspec": {
   "display_name": "Python 3",
   "language": "python",
   "name": "python3"
  },
  "language_info": {
   "codemirror_mode": {
    "name": "ipython",
    "version": 3
   },
   "file_extension": ".py",
   "mimetype": "text/x-python",
   "name": "python",
   "nbconvert_exporter": "python",
   "pygments_lexer": "ipython3",
   "version": "3.8.5"
  }
 },
 "nbformat": 4,
 "nbformat_minor": 2
}
