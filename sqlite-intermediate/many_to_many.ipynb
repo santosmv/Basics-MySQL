{
 "cells": [
  {
   "attachments": {},
   "cell_type": "markdown",
   "metadata": {},
   "source": [
    "These code is originated from the course \"Using Databases with Python\", from professor Charles Severence."
   ]
  },
  {
   "cell_type": "code",
   "execution_count": 18,
   "metadata": {},
   "outputs": [],
   "source": [
    "import sqlite3\n",
    "import tabulate\n",
    "connection = sqlite3.connect(\"data/courses.db\")\n",
    "cursor = connection.cursor()"
   ]
  },
  {
   "cell_type": "code",
   "execution_count": 2,
   "metadata": {},
   "outputs": [
    {
     "data": {
      "text/plain": [
       "<sqlite3.Cursor at 0x1d6dbeab9d0>"
      ]
     },
     "execution_count": 2,
     "metadata": {},
     "output_type": "execute_result"
    }
   ],
   "source": [
    "cursor.executescript(\"\"\"\n",
    "CREATE TABLE User(id INTEGER NOT NULL PRIMARY KEY AUTOINCREMENT UNIQUE,\n",
    "                  name TEXT,\n",
    "                  email TEXT\n",
    ");\n",
    "CREATE TABLE Course(id INTEGER NOT NULL PRIMARY KEY AUTOINCREMENT UNIQUE,\n",
    "                  title TEXT\n",
    ");\n",
    "CREATE TABLE Member(user_id INTEGER,\n",
    "                    course_id INTEGER,\n",
    "                    role INTEGER,\n",
    "                    PRIMARY KEY (user_id, course_id)\n",
    ")\n",
    "\"\"\")"
   ]
  },
  {
   "cell_type": "code",
   "execution_count": 20,
   "metadata": {},
   "outputs": [
    {
     "name": "stdout",
     "output_type": "stream",
     "text": [
      "-------------------------------------------------------------------------\n",
      "CREATE TABLE User(id INTEGER NOT NULL PRIMARY KEY AUTOINCREMENT UNIQUE,\n",
      "                  name TEXT,\n",
      "                  email TEXT\n",
      ")\n",
      "CREATE TABLE sqlite_sequence(name,seq)\n",
      "CREATE TABLE Course(id INTEGER NOT NULL PRIMARY KEY AUTOINCREMENT UNIQUE,\n",
      "                  title TEXT\n",
      ")\n",
      "CREATE TABLE Member(user_id INTEGER,\n",
      "                    course_id INTEGER,\n",
      "                    role INTEGER,\n",
      "                    PRIMARY KEY (user_id, course_id)\n",
      ")\n",
      "-------------------------------------------------------------------------\n"
     ]
    }
   ],
   "source": [
    "table_schema = cursor.execute('PRAGMA table_info(User)').fetchall()\n",
    "schema = cursor.execute('SELECT sql FROM sqlite_master').fetchall()\n",
    "print(tabulate.tabulate(schema))"
   ]
  },
  {
   "cell_type": "code",
   "execution_count": 22,
   "metadata": {},
   "outputs": [
    {
     "data": {
      "text/plain": [
       "<sqlite3.Cursor at 0x1d6dcc5ba40>"
      ]
     },
     "execution_count": 22,
     "metadata": {},
     "output_type": "execute_result"
    }
   ],
   "source": [
    "cursor.executescript(\"\"\"\n",
    "INSERT INTO User (name, email) VALUES ('Jane', 'jane@tsugi.org');\n",
    "INSERT INTO User (name, email) VALUES ('Ed', 'ed@tsugi.org');\n",
    "INSERT INTO User (name, email) VALUES ('Sue', 'sue@tsugi.org');\n",
    "\n",
    "INSERT INTO Course (title) VALUES ('Python');\n",
    "INSERT INTO Course (title) VALUES ('SQL');\n",
    "INSERT INTO Course (title) VALUES ('PHP');\n",
    "\"\"\")"
   ]
  },
  {
   "cell_type": "code",
   "execution_count": 27,
   "metadata": {},
   "outputs": [
    {
     "data": {
      "text/plain": [
       "<sqlite3.Cursor at 0x1d6dcc5ba40>"
      ]
     },
     "execution_count": 27,
     "metadata": {},
     "output_type": "execute_result"
    }
   ],
   "source": [
    "cursor.executescript(\"\"\"\n",
    "INSERT INTO Member (user_id, course_id, role) VALUES (1,1,1);\n",
    "INSERT INTO Member (user_id, course_id, role) VALUES (2,1,0);\n",
    "INSERT INTO Member (user_id, course_id, role) VALUES (3,1,0);\n",
    "INSERT INTO Member (user_id, course_id, role) VALUES (1,2,0);\n",
    "INSERT INTO Member (user_id, course_id, role) VALUES (2,2,1);\n",
    "INSERT INTO Member (user_id, course_id, role) VALUES (2,3,1);\n",
    "INSERT INTO Member (user_id, course_id, role) VALUES (3,3,0);\n",
    "\"\"\")"
   ]
  },
  {
   "cell_type": "code",
   "execution_count": 31,
   "metadata": {},
   "outputs": [
    {
     "name": "stdout",
     "output_type": "stream",
     "text": [
      "----  -  ------\n",
      "Ed    1  PHP\n",
      "Sue   0  PHP\n",
      "Jane  1  Python\n",
      "Ed    0  Python\n",
      "Sue   0  Python\n",
      "Ed    1  SQL\n",
      "Jane  0  SQL\n",
      "----  -  ------\n"
     ]
    }
   ],
   "source": [
    "table = cursor.execute('''SELECT User.name, Member.role, Course.title FROM User\n",
    "                JOIN Member JOIN Course ON\n",
    "                User.id = Member.user_id AND Course.id = Member.course_id\n",
    "                ORDER BY COURSE.title, Member.role DESC, USER.name \n",
    "''').fetchall()\n",
    "table = tabulate.tabulate(table)\n",
    "print(table)"
   ]
  },
  {
   "cell_type": "code",
   "execution_count": 34,
   "metadata": {},
   "outputs": [
    {
     "name": "stdout",
     "output_type": "stream",
     "text": [
      "None\n"
     ]
    }
   ],
   "source": [
    "cursor.execute('SELECT name FROM User WHERE name = ? ', ('marcos', ))\n",
    "row = cursor.fetchone()\n",
    "print(row)"
   ]
  }
 ],
 "metadata": {
  "kernelspec": {
   "display_name": "Python 3",
   "language": "python",
   "name": "python3"
  },
  "language_info": {
   "codemirror_mode": {
    "name": "ipython",
    "version": 3
   },
   "file_extension": ".py",
   "mimetype": "text/x-python",
   "name": "python",
   "nbconvert_exporter": "python",
   "pygments_lexer": "ipython3",
   "version": "3.9.9"
  },
  "orig_nbformat": 4,
  "vscode": {
   "interpreter": {
    "hash": "1e990d233afd70311badbae7ab9b997b7ffd93a748fe192036e93ded9c90ed5c"
   }
  }
 },
 "nbformat": 4,
 "nbformat_minor": 2
}
