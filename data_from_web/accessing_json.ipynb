{
 "cells": [
  {
   "cell_type": "markdown",
   "metadata": {},
   "source": [
    "These code is originated from the course \"Using Python to Access Web Data\", from professor Charles Severence."
   ]
  },
  {
   "cell_type": "code",
   "execution_count": 28,
   "metadata": {},
   "outputs": [
    {
     "name": "stdout",
     "output_type": "stream",
     "text": [
      "{'name': 'Mark', 'phone': {'type': 'intl', 'number': '+111 9202 2222'}, 'email': {'hide': 'yes'}}\n",
      "Name: Mark\n",
      "Hide: yes\n"
     ]
    }
   ],
   "source": [
    "import json\n",
    "\n",
    "data = '''{\n",
    "\"name\":\"Mark\",\n",
    "\"phone\":{\n",
    "    \"type\":\"intl\",\n",
    "    \"number\":\"+111 9202 2222\"\n",
    "    },\n",
    "\"email\":{\"hide\":\"yes\"}\n",
    "}\n",
    "'''\n",
    "\n",
    "info = json.loads(data)\n",
    "print(info)\n",
    "\n",
    "print('Name:',info['name'])\n",
    "print('Hide:',info['email']['hide'])"
   ]
  },
  {
   "cell_type": "code",
   "execution_count": 27,
   "metadata": {},
   "outputs": [
    {
     "name": "stdout",
     "output_type": "stream",
     "text": [
      "[{'name': 'Mark', 'phone': {'type': 'intl', 'number': '+111 9202 2222'}, 'email': {'hide': 'yes'}}, {'name': 'Mark', 'phone': {'type': 'intl', 'number': '+111 9202 2222'}, 'email': {'hide': 'yes'}}]\n",
      "Name: Mark\n",
      "Hide: yes\n",
      "Name: Mark\n",
      "Hide: yes\n"
     ]
    }
   ],
   "source": [
    "import json\n",
    "\n",
    "data = '''[\n",
    "{\"name\":\"Mark\",\n",
    "\"phone\":{\n",
    "    \"type\":\"intl\",\n",
    "    \"number\":\"+111 9202 2222\"\n",
    "    },\n",
    "\"email\":{\"hide\":\"yes\"}\n",
    "},\n",
    "{\"name\":\"Mark\",\n",
    "\"phone\":{\n",
    "    \"type\":\"intl\",\n",
    "    \"number\":\"+111 9202 2222\"\n",
    "    },\n",
    "\"email\":{\"hide\":\"yes\"}\n",
    "}\n",
    "]\n",
    "'''\n",
    "\n",
    "info = json.loads(data)\n",
    "\n",
    "print(info)\n",
    "\n",
    "for item in info:\n",
    "    print('Name:',item['name'])\n",
    "    print('Hide:',item['email']['hide'])"
   ]
  },
  {
   "cell_type": "code",
   "execution_count": 26,
   "metadata": {},
   "outputs": [
    {
     "name": "stdout",
     "output_type": "stream",
     "text": [
      "{'error_message': 'You must use an API key to authenticate each request to Google Maps Platform APIs. For additional information, please refer to http://g.co/dev/maps-no-account', 'results': [], 'status': 'REQUEST_DENIED'}\n",
      "<class 'list'>\n",
      "[]\n"
     ]
    },
    {
     "ename": "IndexError",
     "evalue": "list index out of range",
     "output_type": "error",
     "traceback": [
      "\u001b[1;31m---------------------------------------------------------------------------\u001b[0m",
      "\u001b[1;31mIndexError\u001b[0m                                Traceback (most recent call last)",
      "Cell \u001b[1;32mIn[26], line 24\u001b[0m\n\u001b[0;32m     22\u001b[0m     \u001b[39mprint\u001b[39m(\u001b[39mtype\u001b[39m(js[\u001b[39m'\u001b[39m\u001b[39mresults\u001b[39m\u001b[39m'\u001b[39m]))\n\u001b[0;32m     23\u001b[0m     \u001b[39mprint\u001b[39m(js[\u001b[39m'\u001b[39m\u001b[39mresults\u001b[39m\u001b[39m'\u001b[39m])\n\u001b[1;32m---> 24\u001b[0m     lat \u001b[39m=\u001b[39m js[\u001b[39m'\u001b[39;49m\u001b[39mresults\u001b[39;49m\u001b[39m'\u001b[39;49m][\u001b[39m0\u001b[39;49m][\u001b[39m'\u001b[39m\u001b[39mgeometry\u001b[39m\u001b[39m'\u001b[39m][\u001b[39m'\u001b[39m\u001b[39mlocation\u001b[39m\u001b[39m'\u001b[39m][\u001b[39m'\u001b[39m\u001b[39mlat\u001b[39m\u001b[39m'\u001b[39m]\n\u001b[0;32m     25\u001b[0m     lng \u001b[39m=\u001b[39m js[\u001b[39m'\u001b[39m\u001b[39mresults\u001b[39m\u001b[39m'\u001b[39m][\u001b[39m0\u001b[39m][\u001b[39m'\u001b[39m\u001b[39mgeometry\u001b[39m\u001b[39m'\u001b[39m][\u001b[39m'\u001b[39m\u001b[39mlocation\u001b[39m\u001b[39m'\u001b[39m][\u001b[39m'\u001b[39m\u001b[39mlng\u001b[39m\u001b[39m'\u001b[39m]\n\u001b[0;32m     27\u001b[0m \u001b[39mprint\u001b[39m(lat, lng)\n",
      "\u001b[1;31mIndexError\u001b[0m: list index out of range"
     ]
    }
   ],
   "source": [
    "import urllib.request, urllib.parse, urllib.error\n",
    "import json\n",
    "\n",
    "serviceurl = 'http://maps.googleapis.com/maps/api/geocode/json?'\n",
    "\n",
    "address = 'Campinas, SP, Brazil'\n",
    "\n",
    "while True:\n",
    "    if len(address) < 1:\n",
    "        break\n",
    "    url = serviceurl + urllib.parse.urlencode({'address':address})\n",
    "    uh = urllib.request.urlopen(url)\n",
    "    data = uh.read().decode()\n",
    "\n",
    "    try:\n",
    "        js = json.loads(data)\n",
    "    except:\n",
    "        js = None\n",
    "    \n",
    "    print(js)\n",
    "    \n",
    "    print(type(js['results']))\n",
    "    print(js['results'])\n",
    "    lat = js['results'][0]['geometry']['location']['lat']\n",
    "    lng = js['results'][0]['geometry']['location']['lng']\n",
    "\n",
    "print(lat, lng)\n"
   ]
  },
  {
   "cell_type": "code",
   "execution_count": 57,
   "metadata": {},
   "outputs": [
    {
     "name": "stdout",
     "output_type": "stream",
     "text": [
      "2598\n"
     ]
    }
   ],
   "source": [
    "import urllib.request, urllib.parse, urllib.error\n",
    "import json\n",
    "\n",
    "# url = 'https://py4e-data.dr-chuck.net/comments_42.json'\n",
    "url = 'https://py4e-data.dr-chuck.net/comments_1732596.json'\n",
    "uh = urllib.request.urlopen(url)\n",
    "data = uh.read().decode()\n",
    "itens = json.loads(data)\n",
    "itens = itens['comments']\n",
    "# print(itens)\n",
    "\n",
    "n = 0\n",
    "for item in itens:\n",
    "    n += int(item['count'])\n",
    "print(n)\n"
   ]
  }
 ],
 "metadata": {
  "kernelspec": {
   "display_name": "Python 3",
   "language": "python",
   "name": "python3"
  },
  "language_info": {
   "codemirror_mode": {
    "name": "ipython",
    "version": 3
   },
   "file_extension": ".py",
   "mimetype": "text/x-python",
   "name": "python",
   "nbconvert_exporter": "python",
   "pygments_lexer": "ipython3",
   "version": "3.8.5"
  },
  "orig_nbformat": 4,
  "vscode": {
   "interpreter": {
    "hash": "037335531d7621c1b1b0f2b1596a260ebe03ba48a827428118e6a4217105d671"
   }
  }
 },
 "nbformat": 4,
 "nbformat_minor": 2
}
