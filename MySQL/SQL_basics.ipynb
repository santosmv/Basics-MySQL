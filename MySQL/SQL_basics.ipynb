{
 "cells": [
  {
   "cell_type": "code",
   "execution_count": null,
   "metadata": {
    "vscode": {
     "languageId": "sql"
    }
   },
   "outputs": [],
   "source": [
    "SELECT column1, column2, …\n",
    "FROM mytable\n",
    "WHERE condition(s)\n",
    "ORDER BY column1 ASC/DESC\n",
    "LIMIT num_limit OFFSET num_offset;\n",
    "\n",
    "SELECT column, another_table_column, …\n",
    "FROM mytable\n",
    "INNER JOIN another_table \n",
    "    ON mytable.id = another_table.id\n",
    "WHERE condition(s)\n",
    "ORDER BY column, … ASC/DESC\n",
    "LIMIT num_limit OFFSET num_offset;"
   ]
  },
  {
   "cell_type": "markdown",
   "metadata": {},
   "source": [
    "Lesson 2: Queries with constraints"
   ]
  },
  {
   "cell_type": "code",
   "execution_count": null,
   "metadata": {
    "vscode": {
     "languageId": "sql"
    }
   },
   "outputs": [],
   "source": [
    "SELECT * FROM movies WHERE Id = 6;\n",
    "SELECT * FROM movies WHERE Year BETWEEN 2000 AND 2010;\n",
    "SELECT * FROM movies WHERE Year NOT BETWEEN 2000 AND 2010;\n",
    "SELECT * FROM movies WHERE Id < 6;"
   ]
  },
  {
   "cell_type": "markdown",
   "metadata": {},
   "source": [
    "Lesson 3: Queries with constraints"
   ]
  },
  {
   "cell_type": "code",
   "execution_count": null,
   "metadata": {
    "vscode": {
     "languageId": "sql"
    }
   },
   "outputs": [],
   "source": [
    "SELECT * FROM movies WHERE Title LIKE \"%Toy Story%\";\n",
    "SELECT * FROM movies WHERE Director = \"John Lasseter\";\n",
    "SELECT * FROM movies WHERE Director != \"John Lasseter\";\n",
    "SELECT * FROM movies WHERE Title LIKE \"WALL-%\";"
   ]
  },
  {
   "cell_type": "markdown",
   "metadata": {},
   "source": [
    "Lesson 4: Filtering and sorting queries"
   ]
  },
  {
   "cell_type": "code",
   "execution_count": null,
   "metadata": {
    "vscode": {
     "languageId": "sql"
    }
   },
   "outputs": [],
   "source": [
    "SELECT * FROM movies;\n",
    "SELECT DISTINCT Director FROM movies ORDER BY Director;\n",
    "SELECT * FROM movies ORDER BY Year DESC LIMIT 4;\n",
    "SELECT * FROM movies ORDER BY Title LIMIT 5;\n",
    "SELECT * FROM movies ORDER BY Title LIMIT 5 OFFSET 5;"
   ]
  },
  {
   "cell_type": "markdown",
   "metadata": {},
   "source": [
    "Combining concepts of previous queries:"
   ]
  },
  {
   "cell_type": "code",
   "execution_count": null,
   "metadata": {
    "vscode": {
     "languageId": "sql"
    }
   },
   "outputs": [],
   "source": [
    "SELECT * FROM North_american_cities;\n",
    "SELECT City, Population FROM North_american_cities WHERE Country = \"Canada\";\n",
    "SELECT * FROM North_american_cities WHERE Country = \"United States\" ORDER BY Latitude DESC;\n",
    "SELECT * FROM North_american_cities WHERE Longitude < -87.629798 ORDER BY Longitude;\n",
    "SELECT * FROM North_american_cities WHERE Country = \"Mexico\" ORDER BY Population DESC LIMIT 2;\n",
    "SELECT * FROM North_american_cities WHERE Country = \"United States\" ORDER BY Population DESC LIMIT 2 OFFSET 2;"
   ]
  },
  {
   "cell_type": "markdown",
   "metadata": {},
   "source": [
    "Multi-table queries with JOINs"
   ]
  },
  {
   "cell_type": "code",
   "execution_count": null,
   "metadata": {
    "vscode": {
     "languageId": "sql"
    }
   },
   "outputs": [],
   "source": [
    "SELECT * FROM Boxoffice\n",
    "INNER JOIN Movies\n",
    "ON Boxoffice.Movie_id = Movies.Id;\n",
    "\n",
    "SELECT * FROM Movies\n",
    "INNER JOIN Boxoffice\n",
    "ON Movies.Id = Boxoffice.Movie_id\n",
    "WHERE Domestic_sales < International_sales;\n",
    "\n",
    "SELECT * FROM Movies\n",
    "INNER JOIN Boxoffice\n",
    "ON MovieS.Id = Boxoffice.Movie_id\n",
    "ORDER BY Rating DESC;"
   ]
  },
  {
   "cell_type": "code",
   "execution_count": null,
   "metadata": {
    "vscode": {
     "languageId": "sql"
    }
   },
   "outputs": [],
   "source": [
    "SELECT DISTINCT Building FROM employees;\n",
    "\n",
    "SELECT Building_name, Capacity FROM Buildings;\n",
    "\n",
    "SELECT DISTINCT Employees.Role, Buildings.Building_name FROM Buildings\n",
    "LEFT JOIN Employees ON Buildings.Building_name = Employees.Building;"
   ]
  },
  {
   "cell_type": "markdown",
   "metadata": {},
   "source": [
    "NULL values"
   ]
  },
  {
   "cell_type": "code",
   "execution_count": null,
   "metadata": {
    "vscode": {
     "languageId": "sql"
    }
   },
   "outputs": [],
   "source": [
    "SELECT Role, Name FROM Employees WHERE Building IS NULL;\n",
    "\n",
    "SELECT * FROM Buildings\n",
    "LEFT JOIN Employees ON Buildings.Building_name = Employees.Building\n",
    "WHERE Employees.Building IS NULL;"
   ]
  },
  {
   "cell_type": "markdown",
   "metadata": {},
   "source": [
    "Expressions"
   ]
  },
  {
   "cell_type": "code",
   "execution_count": null,
   "metadata": {
    "vscode": {
     "languageId": "sql"
    }
   },
   "outputs": [],
   "source": [
    "SELECT Title, (Domestic_sales + International_sales)/1000000 AS sales_millions FROM Boxoffice\n",
    "INNER JOIN Movies ON Movies.Id = Boxoffice.Movie_id;\n",
    "\n",
    "SELECT Title, Rating*10 AS Ratings_percent FROM Boxoffice\n",
    "INNER JOIN Movies ON Movies.Id = Boxoffice.Movie_id;\n",
    "\n",
    "SELECT * FROM Movies WHERE Year%2 = 0;"
   ]
  }
 ],
 "metadata": {
  "language_info": {
   "name": "python"
  }
 },
 "nbformat": 4,
 "nbformat_minor": 2
}
