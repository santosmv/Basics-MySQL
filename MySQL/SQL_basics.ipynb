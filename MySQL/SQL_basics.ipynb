{
 "cells": [
  {
   "cell_type": "code",
   "execution_count": null,
   "metadata": {
    "vscode": {
     "languageId": "sql"
    }
   },
   "outputs": [],
   "source": [
    "SELECT column1, column2, …\n",
    "FROM mytable\n",
    "WHERE condition(s)\n",
    "ORDER BY column1 ASC/DESC\n",
    "LIMIT num_limit OFFSET num_offset;\n",
    "\n",
    "SELECT column, another_table_column, …\n",
    "FROM mytable\n",
    "INNER JOIN another_table \n",
    "    ON mytable.id = another_table.id\n",
    "WHERE condition(s)\n",
    "ORDER BY column, … ASC/DESC\n",
    "LIMIT num_limit OFFSET num_offset;"
   ]
  },
  {
   "cell_type": "markdown",
   "metadata": {},
   "source": [
    "Lesson 2: Queries with constraints"
   ]
  },
  {
   "cell_type": "code",
   "execution_count": null,
   "metadata": {
    "vscode": {
     "languageId": "sql"
    }
   },
   "outputs": [],
   "source": [
    "SELECT * FROM movies WHERE Id = 6;\n",
    "SELECT * FROM movies WHERE Year BETWEEN 2000 AND 2010;\n",
    "SELECT * FROM movies WHERE Year NOT BETWEEN 2000 AND 2010;\n",
    "SELECT * FROM movies WHERE Id < 6;"
   ]
  },
  {
   "cell_type": "markdown",
   "metadata": {},
   "source": [
    "Lesson 3: Queries with constraints"
   ]
  },
  {
   "cell_type": "code",
   "execution_count": null,
   "metadata": {
    "vscode": {
     "languageId": "sql"
    }
   },
   "outputs": [],
   "source": [
    "SELECT * FROM movies WHERE Title LIKE \"%Toy Story%\";\n",
    "SELECT * FROM movies WHERE Director = \"John Lasseter\";\n",
    "SELECT * FROM movies WHERE Director != \"John Lasseter\";\n",
    "SELECT * FROM movies WHERE Title LIKE \"WALL-%\";"
   ]
  },
  {
   "cell_type": "markdown",
   "metadata": {},
   "source": [
    "Lesson 4: Filtering and sorting queries"
   ]
  },
  {
   "cell_type": "code",
   "execution_count": null,
   "metadata": {
    "vscode": {
     "languageId": "sql"
    }
   },
   "outputs": [],
   "source": [
    "SELECT * FROM movies;\n",
    "SELECT DISTINCT Director FROM movies ORDER BY Director;\n",
    "SELECT * FROM movies ORDER BY Year DESC LIMIT 4;\n",
    "SELECT * FROM movies ORDER BY Title LIMIT 5;\n",
    "SELECT * FROM movies ORDER BY Title LIMIT 5 OFFSET 5;"
   ]
  },
  {
   "cell_type": "markdown",
   "metadata": {},
   "source": [
    "Combining concepts of previous queries:"
   ]
  },
  {
   "cell_type": "code",
   "execution_count": null,
   "metadata": {
    "vscode": {
     "languageId": "sql"
    }
   },
   "outputs": [],
   "source": [
    "SELECT * FROM North_american_cities;\n",
    "SELECT City, Population FROM North_american_cities WHERE Country = \"Canada\";\n",
    "SELECT * FROM North_american_cities WHERE Country = \"United States\" ORDER BY Latitude DESC;\n",
    "SELECT * FROM North_american_cities WHERE Longitude < -87.629798 ORDER BY Longitude;\n",
    "SELECT * FROM North_american_cities WHERE Country = \"Mexico\" ORDER BY Population DESC LIMIT 2;\n",
    "SELECT * FROM North_american_cities WHERE Country = \"United States\" ORDER BY Population DESC LIMIT 2 OFFSET 2;"
   ]
  },
  {
   "cell_type": "markdown",
   "metadata": {},
   "source": [
    "Multi-table queries with JOINs"
   ]
  },
  {
   "cell_type": "code",
   "execution_count": null,
   "metadata": {
    "vscode": {
     "languageId": "sql"
    }
   },
   "outputs": [],
   "source": [
    "SELECT * FROM Boxoffice\n",
    "INNER JOIN Movies\n",
    "ON Boxoffice.Movie_id = Movies.Id;\n",
    "\n",
    "SELECT * FROM Movies\n",
    "INNER JOIN Boxoffice\n",
    "ON Movies.Id = Boxoffice.Movie_id\n",
    "WHERE Domestic_sales < International_sales;\n",
    "\n",
    "SELECT * FROM Movies\n",
    "INNER JOIN Boxoffice\n",
    "ON MovieS.Id = Boxoffice.Movie_id\n",
    "ORDER BY Rating DESC;"
   ]
  },
  {
   "cell_type": "code",
   "execution_count": null,
   "metadata": {
    "vscode": {
     "languageId": "sql"
    }
   },
   "outputs": [],
   "source": [
    "SELECT DISTINCT Building FROM employees;\n",
    "\n",
    "SELECT Building_name, Capacity FROM Buildings;\n",
    "\n",
    "SELECT DISTINCT Employees.Role, Buildings.Building_name FROM Buildings\n",
    "LEFT JOIN Employees ON Buildings.Building_name = Employees.Building;"
   ]
  },
  {
   "cell_type": "markdown",
   "metadata": {},
   "source": [
    "NULL values"
   ]
  },
  {
   "cell_type": "code",
   "execution_count": null,
   "metadata": {
    "vscode": {
     "languageId": "sql"
    }
   },
   "outputs": [],
   "source": [
    "SELECT Role, Name FROM Employees WHERE Building IS NULL;\n",
    "\n",
    "SELECT * FROM Buildings\n",
    "LEFT JOIN Employees ON Buildings.Building_name = Employees.Building\n",
    "WHERE Employees.Building IS NULL;"
   ]
  },
  {
   "cell_type": "markdown",
   "metadata": {},
   "source": [
    "Expressions"
   ]
  },
  {
   "cell_type": "code",
   "execution_count": null,
   "metadata": {
    "vscode": {
     "languageId": "sql"
    }
   },
   "outputs": [],
   "source": [
    "SELECT Title, (Domestic_sales + International_sales)/1000000 AS sales_millions FROM Boxoffice\n",
    "INNER JOIN Movies ON Movies.Id = Boxoffice.Movie_id;\n",
    "\n",
    "SELECT Title, Rating*10 AS Ratings_percent FROM Boxoffice\n",
    "INNER JOIN Movies ON Movies.Id = Boxoffice.Movie_id;\n",
    "\n",
    "SELECT * FROM Movies WHERE Year%2 = 0;"
   ]
  },
  {
   "cell_type": "markdown",
   "metadata": {},
   "source": [
    "Aggregation"
   ]
  },
  {
   "cell_type": "code",
   "execution_count": null,
   "metadata": {
    "vscode": {
     "languageId": "sql"
    }
   },
   "outputs": [],
   "source": [
    "SELECT MAX(Years_employed) FROM employees;\n",
    "\n",
    "SELECT Role, AVG(Years_employed) AS avg_years FROM employees\n",
    "GROUP BY Role;\n",
    "\n",
    "SELECT Building, SUM(Years_employed) FROM employees\n",
    "GROUP BY Building;"
   ]
  },
  {
   "cell_type": "code",
   "execution_count": null,
   "metadata": {
    "vscode": {
     "languageId": "sql"
    }
   },
   "outputs": [],
   "source": [
    "SELECT * FROM employees;\n",
    "\n",
    "SELECT COUNT() FROM employees WHERE Role = \"Artist\";\n",
    "\n",
    "SELECT Role, COUNT(Role) AS num_role FROM employees GROUP BY Role;\n",
    "\n",
    "SELECT SUM(Years_employed) AS sum_years_eng FROM employees\n",
    "GROUP BY Role HAVING Role = \"Engineer\";"
   ]
  },
  {
   "cell_type": "markdown",
   "metadata": {},
   "source": [
    "Summary"
   ]
  },
  {
   "cell_type": "code",
   "execution_count": null,
   "metadata": {
    "vscode": {
     "languageId": "sql"
    }
   },
   "outputs": [],
   "source": [
    "SELECT * FROM movies;\n",
    "\n",
    "SELECT Director, COUNT() AS num_movies FROM Movies GROUP BY DIRECTOR;\n",
    "\n",
    "SELECT Movies.Director, SUM(Boxoffice.Domestic_sales + Boxoffice.International_sales) AS sales FROM Movies\n",
    "JOIN Boxoffice ON Movies.Id = Boxoffice.Movie_id\n",
    "GROUP BY Director;"
   ]
  },
  {
   "cell_type": "markdown",
   "metadata": {},
   "source": [
    "Including, modifying and deleting data"
   ]
  },
  {
   "cell_type": "code",
   "execution_count": null,
   "metadata": {
    "vscode": {
     "languageId": "sql"
    }
   },
   "outputs": [],
   "source": [
    "INSERT INTO Movies\n",
    "VALUES (15, \"Toy Story 4\", \"John Lasseter\", 2025, 150);\n",
    "\n",
    "INSERT INTO Boxoffice\n",
    "VALUES (15, 8.7, 340000000, 270000000);"
   ]
  },
  {
   "cell_type": "code",
   "execution_count": null,
   "metadata": {
    "vscode": {
     "languageId": "sql"
    }
   },
   "outputs": [],
   "source": [
    "UPDATE Movies\n",
    "SET Director = \"John Lasseter\"\n",
    "WHERE Title = \"A Bug's Life\";\n",
    "\n",
    "UPDATE Movies\n",
    "SET Year = 1999\n",
    "WHERE Title = \"Toy Story 2\";\n",
    "\n",
    "UPDATE Movies\n",
    "SET Title = \"Toy Story 3\",\n",
    "    Director = \"Lee Unkrich\"\n",
    "WHERE Title = \"Toy Story 8\";"
   ]
  },
  {
   "cell_type": "code",
   "execution_count": null,
   "metadata": {
    "vscode": {
     "languageId": "sql"
    }
   },
   "outputs": [],
   "source": [
    "DELETE FROM Movies\n",
    "WHERE Year < 2005;\n",
    "\n",
    "DELETE FROM Movies\n",
    "WHERE Director = \"Andrew Stanton\";"
   ]
  },
  {
   "cell_type": "markdown",
   "metadata": {},
   "source": [
    "Creating, changing, deleting a table"
   ]
  },
  {
   "cell_type": "code",
   "execution_count": null,
   "metadata": {
    "vscode": {
     "languageId": "sql"
    }
   },
   "outputs": [],
   "source": [
    "CREATE TABLE IF NOT EXISTS Database(\n",
    "    Name TEXT,\n",
    "    Version FLOAT,\n",
    "    Download_count INTEGER\n",
    ");"
   ]
  },
  {
   "cell_type": "code",
   "execution_count": null,
   "metadata": {
    "vscode": {
     "languageId": "sql"
    }
   },
   "outputs": [],
   "source": [
    "ALTER TABLE Movies\n",
    "ADD Aspect_ratio FLOAT;\n",
    "\n",
    "ALTER TABLE Movies\n",
    "ADD Language TEXT\n",
    "DEFAULT English;"
   ]
  },
  {
   "cell_type": "code",
   "execution_count": null,
   "metadata": {
    "vscode": {
     "languageId": "sql"
    }
   },
   "outputs": [],
   "source": [
    "DROP TABLE Movies;\n",
    "DROP TABLE Boxoffice;"
   ]
  }
 ],
 "metadata": {
  "language_info": {
   "name": "python"
  }
 },
 "nbformat": 4,
 "nbformat_minor": 2
}
