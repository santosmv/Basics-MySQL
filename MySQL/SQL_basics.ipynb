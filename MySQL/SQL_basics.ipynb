{
 "cells": [
  {
   "cell_type": "code",
   "execution_count": null,
   "metadata": {
    "vscode": {
     "languageId": "sql"
    }
   },
   "outputs": [],
   "source": [
    "SELECT column1, column2, …\n",
    "FROM mytable\n",
    "WHERE condition(s)\n",
    "ORDER BY column1 ASC/DESC\n",
    "LIMIT num_limit OFFSET num_offset;"
   ]
  },
  {
   "cell_type": "markdown",
   "metadata": {},
   "source": [
    "Lesson 2: Queries with constraints"
   ]
  },
  {
   "cell_type": "code",
   "execution_count": null,
   "metadata": {
    "vscode": {
     "languageId": "sql"
    }
   },
   "outputs": [],
   "source": [
    "SELECT * FROM movies WHERE Id = 6;\n",
    "SELECT * FROM movies WHERE Year BETWEEN 2000 AND 2010;\n",
    "SELECT * FROM movies WHERE Year NOT BETWEEN 2000 AND 2010;\n",
    "SELECT * FROM movies WHERE Id < 6;"
   ]
  },
  {
   "cell_type": "markdown",
   "metadata": {},
   "source": [
    "Lesson 3: Queries with constraints"
   ]
  },
  {
   "cell_type": "code",
   "execution_count": null,
   "metadata": {
    "vscode": {
     "languageId": "sql"
    }
   },
   "outputs": [],
   "source": [
    "SELECT * FROM movies WHERE Title LIKE \"%Toy Story%\";\n",
    "SELECT * FROM movies WHERE Director = \"John Lasseter\";\n",
    "SELECT * FROM movies WHERE Director != \"John Lasseter\";\n",
    "SELECT * FROM movies WHERE Title LIKE \"WALL-%\";"
   ]
  },
  {
   "cell_type": "markdown",
   "metadata": {},
   "source": [
    "Lesson 4: Filtering and sorting queries"
   ]
  },
  {
   "cell_type": "code",
   "execution_count": null,
   "metadata": {
    "vscode": {
     "languageId": "sql"
    }
   },
   "outputs": [],
   "source": [
    "SELECT * FROM movies;\n",
    "SELECT DISTINCT Director FROM movies ORDER BY Director;\n",
    "SELECT * FROM movies ORDER BY Year DESC LIMIT 4;\n",
    "SELECT * FROM movies ORDER BY Title LIMIT 5;\n",
    "SELECT * FROM movies ORDER BY Title LIMIT 5 OFFSET 5;"
   ]
  },
  {
   "cell_type": "markdown",
   "metadata": {},
   "source": [
    "Combining concepts of previous queries:"
   ]
  },
  {
   "cell_type": "code",
   "execution_count": null,
   "metadata": {
    "vscode": {
     "languageId": "sql"
    }
   },
   "outputs": [],
   "source": [
    "SELECT * FROM North_american_cities;\n",
    "SELECT City, Population FROM North_american_cities WHERE Country = \"Canada\";\n",
    "SELECT * FROM North_american_cities WHERE Country = \"United States\" ORDER BY Latitude DESC;\n",
    "SELECT * FROM North_american_cities WHERE Longitude < -87.629798 ORDER BY Longitude;\n",
    "SELECT * FROM North_american_cities WHERE Country = \"Mexico\" ORDER BY Population DESC LIMIT 2;\n",
    "SELECT * FROM North_american_cities WHERE Country = \"United States\" ORDER BY Population DESC LIMIT 2 OFFSET 2;"
   ]
  }
 ],
 "metadata": {
  "language_info": {
   "name": "python"
  }
 },
 "nbformat": 4,
 "nbformat_minor": 2
}
